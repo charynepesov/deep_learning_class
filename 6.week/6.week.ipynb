{
 "cells": [
  {
   "cell_type": "code",
   "execution_count": 1,
   "id": "6803fda2-be03-4850-926b-797e223864a3",
   "metadata": {
    "tags": []
   },
   "outputs": [],
   "source": [
    "#pip install matplotlib numpy pandas scikit-learn scipy"
   ]
  },
  {
   "cell_type": "code",
   "execution_count": 1,
   "id": "c41e3f55-84d9-49c1-820c-b2b29cb15a26",
   "metadata": {
    "tags": []
   },
   "outputs": [],
   "source": [
    "import matplotlib.pyplot as plt\n",
    "import numpy as np\n",
    "import pandas as pd\n",
    "import sklearn.linear_model"
   ]
  },
  {
   "cell_type": "code",
   "execution_count": 4,
   "id": "de7653ad-6d81-47ca-9b12-0cf2e197bfe2",
   "metadata": {
    "tags": []
   },
   "outputs": [
    {
     "ename": "ValueError",
     "evalue": "Neither name nor data_id are provided. Please provide name or data_id.",
     "output_type": "error",
     "traceback": [
      "\u001b[0;31m---------------------------------------------------------------------------\u001b[0m",
      "\u001b[0;31mValueError\u001b[0m                                Traceback (most recent call last)",
      "Cell \u001b[0;32mIn[4], line 2\u001b[0m\n\u001b[1;32m      1\u001b[0m \u001b[38;5;28;01mfrom\u001b[39;00m \u001b[38;5;21;01msklearn\u001b[39;00m\u001b[38;5;21;01m.\u001b[39;00m\u001b[38;5;21;01mdatasets\u001b[39;00m \u001b[38;5;28;01mimport\u001b[39;00m fetch_openml\n\u001b[0;32m----> 2\u001b[0m mnist \u001b[38;5;241m=\u001b[39m \u001b[43mfetch_openml\u001b[49m\u001b[43m(\u001b[49m\u001b[43m)\u001b[49m\n",
      "File \u001b[0;32m~/Projects/deep_learning_class/venv/lib/python3.9/site-packages/sklearn/datasets/_openml.py:931\u001b[0m, in \u001b[0;36mfetch_openml\u001b[0;34m(name, version, data_id, data_home, target_column, cache, return_X_y, as_frame, n_retries, delay, parser)\u001b[0m\n\u001b[1;32m    925\u001b[0m         \u001b[38;5;28;01mraise\u001b[39;00m \u001b[38;5;167;01mValueError\u001b[39;00m(\n\u001b[1;32m    926\u001b[0m             \u001b[38;5;124m\"\u001b[39m\u001b[38;5;124mDataset data_id=\u001b[39m\u001b[38;5;132;01m{}\u001b[39;00m\u001b[38;5;124m and version=\u001b[39m\u001b[38;5;132;01m{}\u001b[39;00m\u001b[38;5;124m passed, but you can only \u001b[39m\u001b[38;5;124m\"\u001b[39m\n\u001b[1;32m    927\u001b[0m             \u001b[38;5;124m\"\u001b[39m\u001b[38;5;124mspecify a numeric data_id or a version, not \u001b[39m\u001b[38;5;124m\"\u001b[39m\n\u001b[1;32m    928\u001b[0m             \u001b[38;5;124m\"\u001b[39m\u001b[38;5;124mboth.\u001b[39m\u001b[38;5;124m\"\u001b[39m\u001b[38;5;241m.\u001b[39mformat(data_id, version)\n\u001b[1;32m    929\u001b[0m         )\n\u001b[1;32m    930\u001b[0m \u001b[38;5;28;01melse\u001b[39;00m:\n\u001b[0;32m--> 931\u001b[0m     \u001b[38;5;28;01mraise\u001b[39;00m \u001b[38;5;167;01mValueError\u001b[39;00m(\n\u001b[1;32m    932\u001b[0m         \u001b[38;5;124m\"\u001b[39m\u001b[38;5;124mNeither name nor data_id are provided. Please provide name or data_id.\u001b[39m\u001b[38;5;124m\"\u001b[39m\n\u001b[1;32m    933\u001b[0m     )\n\u001b[1;32m    935\u001b[0m data_description \u001b[38;5;241m=\u001b[39m _get_data_description_by_id(data_id, data_home)\n\u001b[1;32m    936\u001b[0m \u001b[38;5;28;01mif\u001b[39;00m data_description[\u001b[38;5;124m\"\u001b[39m\u001b[38;5;124mstatus\u001b[39m\u001b[38;5;124m\"\u001b[39m] \u001b[38;5;241m!=\u001b[39m \u001b[38;5;124m\"\u001b[39m\u001b[38;5;124mactive\u001b[39m\u001b[38;5;124m\"\u001b[39m:\n",
      "\u001b[0;31mValueError\u001b[0m: Neither name nor data_id are provided. Please provide name or data_id."
     ]
    }
   ],
   "source": [
    "from sklearn.datasets import fetch_openml\n",
    "mnist = fetch_openml()"
   ]
  },
  {
   "cell_type": "code",
   "execution_count": 3,
   "id": "205ab060-a9a6-4dd2-ad28-d6bbdbe09a20",
   "metadata": {
    "tags": []
   },
   "outputs": [
    {
     "ename": "AttributeError",
     "evalue": "'function' object has no attribute 'keys'",
     "output_type": "error",
     "traceback": [
      "\u001b[0;31m---------------------------------------------------------------------------\u001b[0m",
      "\u001b[0;31mAttributeError\u001b[0m                            Traceback (most recent call last)",
      "Cell \u001b[0;32mIn[3], line 1\u001b[0m\n\u001b[0;32m----> 1\u001b[0m \u001b[43mmnist\u001b[49m\u001b[38;5;241;43m.\u001b[39;49m\u001b[43mkeys\u001b[49m()\n",
      "\u001b[0;31mAttributeError\u001b[0m: 'function' object has no attribute 'keys'"
     ]
    }
   ],
   "source": [
    "mnist.keys()"
   ]
  },
  {
   "cell_type": "code",
   "execution_count": null,
   "id": "dfc44806-2d53-40bc-9973-769000034cc5",
   "metadata": {},
   "outputs": [],
   "source": [
    "x, y = mnist[\"data\"], mnist[\"target\"]"
   ]
  },
  {
   "cell_type": "code",
   "execution_count": null,
   "id": "0ed0a472-7dad-4cbd-8dd3-09b596cd308b",
   "metadata": {},
   "outputs": [],
   "source": [
    "y.shape"
   ]
  },
  {
   "cell_type": "code",
   "execution_count": null,
   "id": "95fd49df-f8c6-4a7b-b0b3-e744270a3ae7",
   "metadata": {},
   "outputs": [],
   "source": [
    "x[0].shape"
   ]
  },
  {
   "cell_type": "code",
   "execution_count": null,
   "id": "3183a9d5-fa37-40d3-bd05-dc4e97ef4379",
   "metadata": {},
   "outputs": [],
   "source": [
    "plt.imshow(x[0].reshape(28,28))"
   ]
  },
  {
   "cell_type": "code",
   "execution_count": null,
   "id": "8aede72f-6166-4fec-bb34-7f5cada1fb5e",
   "metadata": {},
   "outputs": [],
   "source": [
    "x_train, x_test, y_train, y_test = x[:60000], x[60000:], y[:60000], y[60000:]"
   ]
  },
  {
   "cell_type": "code",
   "execution_count": null,
   "id": "dacc4649-eea9-4608-9ca3-4888bafbb249",
   "metadata": {},
   "outputs": [],
   "source": [
    "y_test"
   ]
  },
  {
   "cell_type": "code",
   "execution_count": null,
   "id": "e4639188-0590-4eb6-b659-0fd74ce86bb6",
   "metadata": {},
   "outputs": [],
   "source": [
    "#Binary olarak kullanicaz\n",
    "y_train_5 = list(map(lambda x: True if(x=='5') else False, y_train))\n",
    "y_test_5 = list(map(lambda x: True if(x=='5') else False, y_test))"
   ]
  },
  {
   "cell_type": "code",
   "execution_count": null,
   "id": "6e003a28-bdc8-45eb-b9f9-edecd1f6b00d",
   "metadata": {},
   "outputs": [],
   "source": [
    "# Binary classifier secicez -> sgd\n",
    "from sklearn.linear_model import SGDClassifier\n",
    "sgd_clf = SGDClassifier(random_state=42)\n",
    "sgd_clf.fit(x_train, y_train_5)"
   ]
  },
  {
   "cell_type": "code",
   "execution_count": null,
   "id": "9a528ab0-9e9e-42c0-be81-d924cfd19cc4",
   "metadata": {},
   "outputs": [],
   "source": [
    "some = x[0]"
   ]
  },
  {
   "cell_type": "code",
   "execution_count": null,
   "id": "42051b7d-4820-49b2-aa5f-74bb050520de",
   "metadata": {},
   "outputs": [],
   "source": [
    "y[0]"
   ]
  },
  {
   "cell_type": "code",
   "execution_count": null,
   "id": "e5c25840-a349-4f68-867f-5f749f0898a3",
   "metadata": {},
   "outputs": [],
   "source": [
    "sgd_clf.predict([some])"
   ]
  },
  {
   "cell_type": "code",
   "execution_count": null,
   "id": "2436efb8-1fe1-4575-b689-30d994d81be7",
   "metadata": {},
   "outputs": [],
   "source": [
    "# Performans olcutleri->Cross-Validation ile olcme. En onemli dikkat edilmesi \n",
    "# gereken husus \"stratified sampling\" dir.\n",
    "from sklearn.model_selection import cross_val_score\n",
    "cross_val_score(sgd_clf, x_train, y_train_5, cv=5, scoring=\"accuracy\")"
   ]
  },
  {
   "cell_type": "code",
   "execution_count": 5,
   "id": "a8e359d6-0cee-4ec3-894e-1080e146935a",
   "metadata": {
    "tags": []
   },
   "outputs": [],
   "source": [
    "from sklearn.base import BaseEstimator\n",
    "\n",
    "class asla_5_olmayanlar(BaseEstimator):\n",
    "    def fit(self, x, y=None):\n",
    "        return self\n",
    "    def predict(self, x):\n",
    "        return np.zeros(len(x), 1, dtype=bool)"
   ]
  },
  {
   "cell_type": "code",
   "execution_count": null,
   "id": "5b96d74b-5e27-4715-aed5-db3e6dc4923c",
   "metadata": {},
   "outputs": [],
   "source": [
    "asla_5 = asla_5_olmayanlar()"
   ]
  },
  {
   "cell_type": "code",
   "execution_count": null,
   "id": "e53cd94a-e32d-4219-8a3f-052f8be94b17",
   "metadata": {},
   "outputs": [],
   "source": [
    "# model icindeki degerlerin %90 i 5 degil\n",
    "cross_val_score(asla_5, x_train, y_train_5, cv=5, scoring=\"accuracy\")"
   ]
  },
  {
   "cell_type": "code",
   "execution_count": null,
   "id": "0e49ad5d-818f-4f3a-a9bb-f0fb6e57e196",
   "metadata": {},
   "outputs": [],
   "source": [
    "# bu tarz carpik veri setlerinde accuracy kullanilmiyor\n",
    "# shewed datasets - carpik veri seti"
   ]
  },
  {
   "cell_type": "code",
   "execution_count": null,
   "id": "e3e20d0a-43b3-4de2-9f06-7fea4f7e9b9d",
   "metadata": {},
   "outputs": [],
   "source": [
    "from sklearn.model_selection import cross_val_predict\n",
    "y_train_pred, "
   ]
  },
  {
   "cell_type": "code",
   "execution_count": null,
   "id": "37d944ef-42dc-4f17-b7a7-9b3af3c7746d",
   "metadata": {},
   "outputs": [],
   "source": [
    "from sklearn.metrics import confusion_matrix\n",
    "confusion_matrix(y_train_5, y_train_pred)"
   ]
  },
  {
   "cell_type": "markdown",
   "id": "27f2769a-fbf2-45f1-b598-d60ae48fe274",
   "metadata": {},
   "source": [
    "916: hatali olarak (5-degil) etiketlenenler\n",
    "1464: hatali olarak (5) etiketlenenler\n",
    "4505: dogru 5 etiketlenenler\n",
    "53115: dogru 5 degil etiketlenenler"
   ]
  },
  {
   "cell_type": "code",
   "execution_count": null,
   "id": "53f903c7-2aec-4a46-be54-f2ca630abb2c",
   "metadata": {},
   "outputs": [],
   "source": [
    "perfect_Res = y_train_5"
   ]
  },
  {
   "cell_type": "code",
   "execution_count": null,
   "id": "f55b7e12-bdc5-41e2-b5a8-c8f240ebf0a6",
   "metadata": {},
   "outputs": [],
   "source": [
    "condusion_matrix(y_train_5, perfect_Res)"
   ]
  },
  {
   "cell_type": "code",
   "execution_count": null,
   "id": "78e477df-4e08-44e5-a42c-0d032edbce16",
   "metadata": {},
   "outputs": [],
   "source": [
    "# keskinlik - precision = TP / (TP + FP)\n",
    "# recall = TP / (TP + FN)"
   ]
  },
  {
   "cell_type": "code",
   "execution_count": 6,
   "id": "edea3a00-38ca-48ae-b237-9f86ff685adb",
   "metadata": {
    "tags": []
   },
   "outputs": [],
   "source": [
    "from sklearn.metrics import precision_score, recall_score, f1_score"
   ]
  },
  {
   "cell_type": "code",
   "execution_count": 7,
   "id": "f0c766a9-2c17-44ce-b01a-c308846bfc00",
   "metadata": {
    "tags": []
   },
   "outputs": [
    {
     "ename": "NameError",
     "evalue": "name 'y_train_5' is not defined",
     "output_type": "error",
     "traceback": [
      "\u001b[0;31m---------------------------------------------------------------------------\u001b[0m",
      "\u001b[0;31mNameError\u001b[0m                                 Traceback (most recent call last)",
      "Cell \u001b[0;32mIn[7], line 1\u001b[0m\n\u001b[0;32m----> 1\u001b[0m precision_score(\u001b[43my_train_5\u001b[49m, y_train_pred)\n",
      "\u001b[0;31mNameError\u001b[0m: name 'y_train_5' is not defined"
     ]
    }
   ],
   "source": [
    "precision_score(y_train_5, y_train_pred)"
   ]
  },
  {
   "cell_type": "code",
   "execution_count": null,
   "id": "fe706630-737d-4b4a-9b87-5c7bd0bcdc3a",
   "metadata": {},
   "outputs": [],
   "source": [
    "recall_score(y_train_5, y_train_pred)"
   ]
  },
  {
   "cell_type": "code",
   "execution_count": null,
   "id": "3485112a-b0e0-4557-9b36-cf26eb88ab60",
   "metadata": {},
   "outputs": [],
   "source": [
    "# f1 score\n",
    "f1_score(y_train_5, y_train_pred)"
   ]
  },
  {
   "cell_type": "code",
   "execution_count": null,
   "id": "e30daee4-1ca0-43d9-982e-ffc3255fcf3b",
   "metadata": {},
   "outputs": [],
   "source": []
  }
 ],
 "metadata": {
  "kernelspec": {
   "display_name": "Python 3 (ipykernel)",
   "language": "python",
   "name": "python3"
  },
  "language_info": {
   "codemirror_mode": {
    "name": "ipython",
    "version": 3
   },
   "file_extension": ".py",
   "mimetype": "text/x-python",
   "name": "python",
   "nbconvert_exporter": "python",
   "pygments_lexer": "ipython3",
   "version": "3.9.2"
  }
 },
 "nbformat": 4,
 "nbformat_minor": 5
}
